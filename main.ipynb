{
 "cells": [
  {
   "cell_type": "code",
   "execution_count": 2,
   "metadata": {},
   "outputs": [],
   "source": [
    "import warnings\n",
    "warnings.filterwarnings(\"ignore\")\n",
    "warnings.simplefilter('ignore')\n",
    "import pandas as pd\n",
    "import numpy as np\n",
    "import seaborn as sns\n",
    "import matplotlib.pyplot as plt\n",
    "import matplotlib.colors as mcolors\n",
    "from sklearn.impute import KNNImputer\n",
    "from sklearn.metrics import log_loss\n",
    "from sklearn.model_selection import RepeatedKFold\n",
    "%matplotlib inline"
   ]
  },
  {
   "cell_type": "code",
   "execution_count": 3,
   "metadata": {},
   "outputs": [
    {
     "data": {
      "text/html": [
       "<div>\n",
       "<style scoped>\n",
       "    .dataframe tbody tr th:only-of-type {\n",
       "        vertical-align: middle;\n",
       "    }\n",
       "\n",
       "    .dataframe tbody tr th {\n",
       "        vertical-align: top;\n",
       "    }\n",
       "\n",
       "    .dataframe thead th {\n",
       "        text-align: right;\n",
       "    }\n",
       "</style>\n",
       "<table border=\"1\" class=\"dataframe\">\n",
       "  <thead>\n",
       "    <tr style=\"text-align: right;\">\n",
       "      <th></th>\n",
       "      <th>reviews_content</th>\n",
       "      <th>category</th>\n",
       "    </tr>\n",
       "  </thead>\n",
       "  <tbody>\n",
       "    <tr>\n",
       "      <th>0</th>\n",
       "      <td>airplane ! is considered among many to be the ...</td>\n",
       "      <td>positive</td>\n",
       "    </tr>\n",
       "    <tr>\n",
       "      <th>1</th>\n",
       "      <td>you've got to love disney . \\nno matter what t...</td>\n",
       "      <td>positive</td>\n",
       "    </tr>\n",
       "    <tr>\n",
       "      <th>2</th>\n",
       "      <td>\" the tailor of panama \" is a different kind ...</td>\n",
       "      <td>positive</td>\n",
       "    </tr>\n",
       "    <tr>\n",
       "      <th>3</th>\n",
       "      <td>the characters in jonathan lynn's \" the whole ...</td>\n",
       "      <td>negative</td>\n",
       "    </tr>\n",
       "    <tr>\n",
       "      <th>4</th>\n",
       "      <td>vikings v . bears ? \\nno , this isn't the line...</td>\n",
       "      <td>negative</td>\n",
       "    </tr>\n",
       "    <tr>\n",
       "      <th>...</th>\n",
       "      <td>...</td>\n",
       "      <td>...</td>\n",
       "    </tr>\n",
       "    <tr>\n",
       "      <th>1495</th>\n",
       "      <td>trekkies , roger nygard's energetic and hilari...</td>\n",
       "      <td>positive</td>\n",
       "    </tr>\n",
       "    <tr>\n",
       "      <th>1496</th>\n",
       "      <td>\" dangerous beauty \" is a really nothing more...</td>\n",
       "      <td>positive</td>\n",
       "    </tr>\n",
       "    <tr>\n",
       "      <th>1497</th>\n",
       "      <td>starring shawnee smith ; donovan leitch ; rick...</td>\n",
       "      <td>negative</td>\n",
       "    </tr>\n",
       "    <tr>\n",
       "      <th>1498</th>\n",
       "      <td>man , this was one wierd movie . \\nsimilar to ...</td>\n",
       "      <td>negative</td>\n",
       "    </tr>\n",
       "    <tr>\n",
       "      <th>1499</th>\n",
       "      <td>review : ghost dog : the way of the samurai ( ...</td>\n",
       "      <td>positive</td>\n",
       "    </tr>\n",
       "  </tbody>\n",
       "</table>\n",
       "<p>1500 rows × 2 columns</p>\n",
       "</div>"
      ],
      "text/plain": [
       "                                        reviews_content  category\n",
       "0     airplane ! is considered among many to be the ...  positive\n",
       "1     you've got to love disney . \\nno matter what t...  positive\n",
       "2      \" the tailor of panama \" is a different kind ...  positive\n",
       "3     the characters in jonathan lynn's \" the whole ...  negative\n",
       "4     vikings v . bears ? \\nno , this isn't the line...  negative\n",
       "...                                                 ...       ...\n",
       "1495  trekkies , roger nygard's energetic and hilari...  positive\n",
       "1496   \" dangerous beauty \" is a really nothing more...  positive\n",
       "1497  starring shawnee smith ; donovan leitch ; rick...  negative\n",
       "1498  man , this was one wierd movie . \\nsimilar to ...  negative\n",
       "1499  review : ghost dog : the way of the samurai ( ...  positive\n",
       "\n",
       "[1500 rows x 2 columns]"
      ]
     },
     "execution_count": 3,
     "metadata": {},
     "output_type": "execute_result"
    }
   ],
   "source": [
    "df = pd.read_csv('train.csv')\n",
    "df"
   ]
  },
  {
   "cell_type": "code",
   "execution_count": 4,
   "metadata": {},
   "outputs": [
    {
     "data": {
      "text/plain": [
       "'airplane ! is considered among many to be the epitome of satire film-making . \\nafter all , it\\'s brought to us by one of the best known satire writing/directing teams . \\neven if most people don\\'t recognize the names behind the films , they are bound to recognize the titles : airplane ! , top secret , the naked gun , and hot shots to name a few . \\nbut although the zucker/abrahams/zucker team was first introduced with the kentucky fried movie in 1977 , airplane ! \\nremains the true cornerstone of their work , and their directorial debuts . \\nin the seventies , disaster films seemed to be at an all time high . \\nfilms like earthquake , the towering inferno , and the poseidon adventure were big hits . \\nthere was also a series about the disasters that can arise when traveling by plane - a series that spanned the entire decade . \\nand so , in 1980 , we were introduced to a new airplane disaster film . \\nthis time the disaster had nothing to do with a maniacal hijacker or crashing into the ocean . \\n . \\n . \\nit had to do with bad fish . \\nairplane ! is the story of ted striker ( robert hays ) - an ex-fighter-pilot who has never gotten over the fact that a decision he had to make in the midst of war led to the death of six , er , seven comrades . \\nunable to stop living in the past , ted\\'s world fell apart . \\nhe spent his time moving from city to city without ever having a stable job , and eventually , as we begin this film , is getting dumped by his lover , flight attendant elaine dickinson ( julie hagerty ) . \\nin a desperate attempt not to lose her , ted buys a ticket for the same flight elaine is working . \\nunfortunately , she is unsympathetic and even criticizes ted for following her , which leaves him wallowing in self-pity . \\nin the midst of it all , something happens . \\nsomeone gets sick . \\nthen another . \\nthen another . \\nsoon , the whole plane is full of deathly-ill chicago-bound people . \\n . \\n . \\nand when the pilots get sick ( played by peter graves , kareem abdul-jabbar , and frank ashmore ) , who will save the day ? \\n ( gee , i wonder ) \\nof course the main draw here is the non-stop \" whiz-bang \" comedy , with a hefty dose of both visual and spoken gags . \\nalthough i had seen this movie a few times before , i was still laughing thru the entire thing . \\nthe most fun character by far is the doctor , played by leslie nielsen . \\nhe\\'s a dry , subtle , sterotypically straight-faced doctor that ends up saying some of the funniest lines of the film . \\nin a film like this , you\\'re not really expecting an elaborate production , so one can\\'t complain about the amateurish quality . \\nwhat you can complain about is the absolutely annoying johnny , played by stephen stucker . \\nthis character is pointless , nauseating , and very unfunny . \\ni don\\'t know why he was put in there , and i don\\'t think anybody will find a good excuse . \\nand when the film nears an end , it slows down quite a bit , almost getting old . \\nyou gotta give it to a movie that only runs 88 minutes and can feel two hours long . \\naside from that , airplane ! \\nis really a top-notch spoof that will likely forever be known as a spoof classic . \\nit would be a good choice to pop in the vcr with a group of friends , especially if they haven\\'t seen it . \\nand if they ask what the plot is , just tell \\'em \" it\\'s a synopsis of the basic storyline of the film , but that\\'s not important right now . \" \\nif you\\'ve seen the film , you\\'ll understand ; - ) \\n'"
      ]
     },
     "execution_count": 4,
     "metadata": {},
     "output_type": "execute_result"
    }
   ],
   "source": [
    "df['reviews_content'][0]"
   ]
  },
  {
   "cell_type": "code",
   "execution_count": 5,
   "metadata": {},
   "outputs": [
    {
     "data": {
      "text/plain": [
       "reviews_content    0\n",
       "category           0\n",
       "dtype: int64"
      ]
     },
     "execution_count": 5,
     "metadata": {},
     "output_type": "execute_result"
    }
   ],
   "source": [
    "df.isnull().sum()"
   ]
  },
  {
   "cell_type": "code",
   "execution_count": 6,
   "metadata": {},
   "outputs": [
    {
     "data": {
      "text/plain": [
       "positive    752\n",
       "negative    748\n",
       "Name: category, dtype: int64"
      ]
     },
     "execution_count": 6,
     "metadata": {},
     "output_type": "execute_result"
    }
   ],
   "source": [
    "df['category'].value_counts()"
   ]
  },
  {
   "cell_type": "code",
   "execution_count": 7,
   "metadata": {},
   "outputs": [
    {
     "name": "stdout",
     "output_type": "stream",
     "text": [
      "<class 'pandas.core.frame.DataFrame'>\n",
      "RangeIndex: 1500 entries, 0 to 1499\n",
      "Data columns (total 2 columns):\n",
      " #   Column           Non-Null Count  Dtype \n",
      "---  ------           --------------  ----- \n",
      " 0   reviews_content  1500 non-null   object\n",
      " 1   category         1500 non-null   object\n",
      "dtypes: object(2)\n",
      "memory usage: 23.6+ KB\n"
     ]
    }
   ],
   "source": [
    "df.info()"
   ]
  },
  {
   "cell_type": "code",
   "execution_count": 12,
   "metadata": {},
   "outputs": [],
   "source": [
    "import re\n",
    "\n",
    "def clean_text(text):\n",
    "    text = text.lower()\n",
    "    text = re.sub(r\"what's\", \"what is \", text)\n",
    "    text = re.sub(r\"\\'s\", \" \", text)\n",
    "    text = re.sub(r\"\\'ve\", \" have \", text)\n",
    "    text = re.sub(r\"can't\", \"can not \", text)\n",
    "    text = re.sub(r\"n't\", \" not \", text)\n",
    "    text = re.sub(r\"i'm\", \"i am \", text)\n",
    "    text = re.sub(r\"\\'re\", \" are \", text)\n",
    "    text = re.sub(r\"\\'d\", \" would \", text)\n",
    "    text = re.sub(r\"\\'ll\", \" will \", text)\n",
    "    text = re.sub(r\"\\'scuse\", \" excuse \", text)\n",
    "    text = re.sub('\\W', ' ', text)\n",
    "    text = re.sub('\\s+', ' ', text)\n",
    "    text = re.sub(r'\\n', '', text)\n",
    "    text = text.strip(' ')\n",
    "    return text"
   ]
  },
  {
   "cell_type": "code",
   "execution_count": 13,
   "metadata": {},
   "outputs": [
    {
     "data": {
      "text/plain": [
       "'airplane is considered among many to be the epitome of satire film making after all it brought to us by one of the best known satire writing directing teams even if most people do not recognize the names behind the films they are bound to recognize the titles airplane top secret the naked gun and hot shots to name a few but although the zucker abrahams zucker team was first introduced with the kentucky fried movie in 1977 airplane remains the true cornerstone of their work and their directorial debuts in the seventies disaster films seemed to be at an all time high films like earthquake the towering inferno and the poseidon adventure were big hits there was also a series about the disasters that can arise when traveling by plane a series that spanned the entire decade and so in 1980 we were introduced to a new airplane disaster film this time the disaster had nothing to do with a maniacal hijacker or crashing into the ocean it had to do with bad fish airplane is the story of ted striker robert hays an ex fighter pilot who has never gotten over the fact that a decision he had to make in the midst of war led to the death of six er seven comrades unable to stop living in the past ted world fell apart he spent his time moving from city to city without ever having a stable job and eventually as we begin this film is getting dumped by his lover flight attendant elaine dickinson julie hagerty in a desperate attempt not to lose her ted buys a ticket for the same flight elaine is working unfortunately she is unsympathetic and even criticizes ted for following her which leaves him wallowing in self pity in the midst of it all something happens someone gets sick then another then another soon the whole plane is full of deathly ill chicago bound people and when the pilots get sick played by peter graves kareem abdul jabbar and frank ashmore who will save the day gee i wonder of course the main draw here is the non stop whiz bang comedy with a hefty dose of both visual and spoken gags although i had seen this movie a few times before i was still laughing thru the entire thing the most fun character by far is the doctor played by leslie nielsen he a dry subtle sterotypically straight faced doctor that ends up saying some of the funniest lines of the film in a film like this you are not really expecting an elaborate production so one can not complain about the amateurish quality what you can complain about is the absolutely annoying johnny played by stephen stucker this character is pointless nauseating and very unfunny i do not know why he was put in there and i do not think anybody will find a good excuse and when the film nears an end it slows down quite a bit almost getting old you gotta give it to a movie that only runs 88 minutes and can feel two hours long aside from that airplane is really a top notch spoof that will likely forever be known as a spoof classic it would be a good choice to pop in the vcr with a group of friends especially if they have not seen it and if they ask what the plot is just tell em it a synopsis of the basic storyline of the film but that not important right now if you have seen the film you will understand'"
      ]
     },
     "execution_count": 13,
     "metadata": {},
     "output_type": "execute_result"
    }
   ],
   "source": [
    "df['reviews_content'] = df['reviews_content'].map(lambda com : clean_text(com))\n",
    "df['reviews_content'][0]"
   ]
  },
  {
   "cell_type": "code",
   "execution_count": 16,
   "metadata": {},
   "outputs": [
    {
     "data": {
      "text/plain": [
       "'airplane considered among many epitome satire film making brought us one best known satire writing directing teams even people recognize names behind films bound recognize titles airplane top secret naked gun hot shots name although zucker abrahams zucker team first introduced kentucky fried movie 1977 airplane remains true cornerstone work directorial debuts seventies disaster films seemed time high films like earthquake towering inferno poseidon adventure big hits also series disasters arise traveling plane series spanned entire decade 1980 introduced new airplane disaster film time disaster nothing maniacal hijacker crashing ocean bad fish airplane story ted striker robert hays ex fighter pilot never gotten fact decision make midst war led death six er seven comrades unable stop living past ted world fell apart spent time moving city city without ever stable job eventually begin film getting dumped lover flight attendant elaine dickinson julie hagerty desperate attempt lose ted buys ticket flight elaine working unfortunately unsympathetic even criticizes ted following leaves wallowing self pity midst something happens someone gets sick another another soon whole plane full deathly ill chicago bound people pilots get sick played peter graves kareem abdul jabbar frank ashmore save day gee wonder course main draw non stop whiz bang comedy hefty dose visual spoken gags although seen movie times still laughing thru entire thing fun character far doctor played leslie nielsen dry subtle sterotypically straight faced doctor ends saying funniest lines film film like really expecting elaborate production one complain amateurish quality complain absolutely annoying johnny played stephen stucker character pointless nauseating unfunny know put think anybody find good excuse film nears end slows quite bit almost getting old gotta give movie runs 88 minutes feel two hours long aside airplane really top notch spoof likely forever known spoof classic would good choice pop vcr group friends especially seen ask plot tell em synopsis basic storyline film important right seen film understand'"
      ]
     },
     "execution_count": 16,
     "metadata": {},
     "output_type": "execute_result"
    }
   ],
   "source": [
    "import nltk\n",
    "from nltk.corpus import stopwords\n",
    "from nltk.tokenize import word_tokenize\n",
    "from nltk.stem import PorterStemmer\n",
    "from nltk.stem import WordNetLemmatizer\n",
    "\n",
    "stop_words = stopwords.words('english')\n",
    "df['reviews_content'] = df['reviews_content'].apply(lambda x: ' '.join([word for word in x.split() if word not in (stop_words)]))\n",
    "df['reviews_content'][0]"
   ]
  },
  {
   "cell_type": "code",
   "execution_count": 22,
   "metadata": {},
   "outputs": [
    {
     "data": {
      "text/plain": [
       "((1500,), (1500,))"
      ]
     },
     "execution_count": 22,
     "metadata": {},
     "output_type": "execute_result"
    }
   ],
   "source": [
    "y = np.array(df['category'])\n",
    "X = df['reviews_content']\n",
    "\n",
    "X.shape, y.shape"
   ]
  },
  {
   "cell_type": "code",
   "execution_count": 23,
   "metadata": {},
   "outputs": [
    {
     "data": {
      "text/plain": [
       "0       airplane considered among many epitome satire ...\n",
       "1       got love disney matter serve guaranteed succes...\n",
       "2       tailor panama different kind spy movie despite...\n",
       "3       characters jonathan lynn whole nine yards yet ...\n",
       "4       vikings v bears lineup monday night football r...\n",
       "                              ...                        \n",
       "1495    trekkies roger nygard energetic hilarious docu...\n",
       "1496    dangerous beauty really nothing grandiose soap...\n",
       "1497    starring shawnee smith donovan leitch ricky pa...\n",
       "1498    man one wierd movie similar conspiracy theory ...\n",
       "1499    review ghost dog way samurai 1999 cast forest ...\n",
       "Name: reviews_content, Length: 1500, dtype: object"
      ]
     },
     "execution_count": 23,
     "metadata": {},
     "output_type": "execute_result"
    }
   ],
   "source": [
    "X"
   ]
  },
  {
   "cell_type": "code",
   "execution_count": 25,
   "metadata": {},
   "outputs": [],
   "source": [
    "from sklearn.feature_extraction.text import TfidfVectorizer\n",
    "import tensorflow as tf\n",
    "from sklearn.model_selection import train_test_split\n",
    "from sklearn.preprocessing import StandardScaler\n",
    "from keras import layers\n",
    "from keras.preprocessing.text import Tokenizer\n",
    "from keras.models import Sequential\n",
    "from keras.layers import Dense, Embedding, GlobalAveragePooling1D\n",
    "from tensorflow.keras.preprocessing.sequence import pad_sequences\n",
    "from keras.models import Sequential"
   ]
  },
  {
   "cell_type": "code",
   "execution_count": 26,
   "metadata": {},
   "outputs": [],
   "source": [
    "# Inisialisasi Tokenizer\n",
    "tokenizer = Tokenizer(num_words=5000, oov_token=\"<OOV>\")\n",
    "\n",
    "# Fitting tokenizer pada teks\n",
    "tokenizer.fit_on_texts(X)\n",
    "\n",
    "# Mengubah teks menjadi sequence\n",
    "sequences = tokenizer.texts_to_sequences(X)\n",
    "\n",
    "# Padding sequences untuk memastikan panjang yang seragam\n",
    "padded_sequences = pad_sequences(sequences, padding='post')"
   ]
  },
  {
   "cell_type": "code",
   "execution_count": 27,
   "metadata": {},
   "outputs": [
    {
     "data": {
      "text/plain": [
       "array([[2474, 1299,  499, ...,    0,    0,    0],\n",
       "       [ 181,   44,  318, ...,    0,    0,    0],\n",
       "       [   1,    1,  193, ...,    0,    0,    0],\n",
       "       ...,\n",
       "       [ 680,    1,  496, ...,    0,    0,    0],\n",
       "       [  31,    3,    1, ...,    0,    0,    0],\n",
       "       [ 342, 1319,  401, ...,    0,    0,    0]])"
      ]
     },
     "execution_count": 27,
     "metadata": {},
     "output_type": "execute_result"
    }
   ],
   "source": [
    "padded_sequences"
   ]
  },
  {
   "cell_type": "code",
   "execution_count": 28,
   "metadata": {},
   "outputs": [],
   "source": [
    "labels_encoded = [1 if label == 'positive' else 0 for label in y]"
   ]
  },
  {
   "cell_type": "code",
   "execution_count": 40,
   "metadata": {},
   "outputs": [
    {
     "data": {
      "text/plain": [
       "array([1, 1, 1, ..., 0, 0, 1])"
      ]
     },
     "execution_count": 40,
     "metadata": {},
     "output_type": "execute_result"
    }
   ],
   "source": [
    "labels_encoded"
   ]
  },
  {
   "cell_type": "code",
   "execution_count": 39,
   "metadata": {},
   "outputs": [],
   "source": [
    "labels_encoded = np.array(labels_encoded)"
   ]
  },
  {
   "cell_type": "code",
   "execution_count": 41,
   "metadata": {},
   "outputs": [
    {
     "data": {
      "text/plain": [
       "((1200, 1173), (300, 1173), 1200, 300)"
      ]
     },
     "execution_count": 41,
     "metadata": {},
     "output_type": "execute_result"
    }
   ],
   "source": [
    "X_train, X_test, y_train, y_test = train_test_split(padded_sequences, labels_encoded, test_size=0.2, random_state=42)\n",
    "\n",
    "X_train.shape, X_test.shape, len(y_train), len(y_test)"
   ]
  },
  {
   "cell_type": "code",
   "execution_count": 45,
   "metadata": {},
   "outputs": [
    {
     "name": "stdout",
     "output_type": "stream",
     "text": [
      "Model: \"sequential_4\"\n",
      "_________________________________________________________________\n",
      " Layer (type)                Output Shape              Param #   \n",
      "=================================================================\n",
      " embedding_5 (Embedding)     (None, 1173, 16)          558304    \n",
      "                                                                 \n",
      " global_average_pooling1d_5   (None, 16)               0         \n",
      " (GlobalAveragePooling1D)                                        \n",
      "                                                                 \n",
      " dense_13 (Dense)            (None, 32)                544       \n",
      "                                                                 \n",
      " dropout_8 (Dropout)         (None, 32)                0         \n",
      "                                                                 \n",
      " dense_14 (Dense)            (None, 16)                528       \n",
      "                                                                 \n",
      " dropout_9 (Dropout)         (None, 16)                0         \n",
      "                                                                 \n",
      " dense_15 (Dense)            (None, 1)                 17        \n",
      "                                                                 \n",
      "=================================================================\n",
      "Total params: 559,393\n",
      "Trainable params: 559,393\n",
      "Non-trainable params: 0\n",
      "_________________________________________________________________\n"
     ]
    }
   ],
   "source": [
    "from keras.layers import Dropout\n",
    "\n",
    "# Create model\n",
    "# Create model\n",
    "model = Sequential([\n",
    "    Embedding(input_dim=len(tokenizer.word_index)+1, output_dim=16, input_length=padded_sequences.shape[1]),\n",
    "    GlobalAveragePooling1D(),\n",
    "    Dense(32, activation='relu'),\n",
    "    Dropout(0.2),\n",
    "    Dense(16, activation='relu'),\n",
    "    Dropout(0.2),\n",
    "    Dense(1, activation='sigmoid')\n",
    "])\n",
    "\n",
    "# Kompilasi model\n",
    "model.compile(optimizer='adam',\n",
    "              loss='binary_crossentropy',\n",
    "              metrics=['accuracy'])\n",
    "\n",
    "# Ringkasan model\n",
    "model.summary()"
   ]
  },
  {
   "cell_type": "code",
   "execution_count": 47,
   "metadata": {},
   "outputs": [
    {
     "name": "stdout",
     "output_type": "stream",
     "text": [
      "Epoch 1/26\n",
      "38/38 [==============================] - 1s 15ms/step - loss: 0.0118 - accuracy: 1.0000\n",
      "Epoch 2/26\n",
      "38/38 [==============================] - 1s 20ms/step - loss: 0.0094 - accuracy: 1.0000\n",
      "Epoch 3/26\n",
      "38/38 [==============================] - 1s 21ms/step - loss: 0.0085 - accuracy: 1.0000\n",
      "Epoch 4/26\n",
      "38/38 [==============================] - 1s 18ms/step - loss: 0.0098 - accuracy: 0.9992\n",
      "Epoch 5/26\n",
      "38/38 [==============================] - 1s 16ms/step - loss: 0.0089 - accuracy: 1.0000\n",
      "Epoch 6/26\n",
      "38/38 [==============================] - 1s 15ms/step - loss: 0.0058 - accuracy: 1.0000\n",
      "Epoch 7/26\n",
      "38/38 [==============================] - 1s 16ms/step - loss: 0.0070 - accuracy: 1.0000\n",
      "Epoch 8/26\n",
      "38/38 [==============================] - 1s 18ms/step - loss: 0.0077 - accuracy: 0.9983\n",
      "Epoch 9/26\n",
      "38/38 [==============================] - 1s 17ms/step - loss: 0.0059 - accuracy: 0.9992\n",
      "Epoch 10/26\n",
      "38/38 [==============================] - 1s 16ms/step - loss: 0.0045 - accuracy: 1.0000\n",
      "Epoch 11/26\n",
      "38/38 [==============================] - 1s 18ms/step - loss: 0.0051 - accuracy: 1.0000\n",
      "Epoch 12/26\n",
      "38/38 [==============================] - 1s 15ms/step - loss: 0.0052 - accuracy: 1.0000\n",
      "Epoch 13/26\n",
      "38/38 [==============================] - 1s 16ms/step - loss: 0.0037 - accuracy: 1.0000\n",
      "Epoch 14/26\n",
      "38/38 [==============================] - 1s 18ms/step - loss: 0.0041 - accuracy: 1.0000\n",
      "Epoch 15/26\n",
      "38/38 [==============================] - 1s 15ms/step - loss: 0.0042 - accuracy: 1.0000\n",
      "Epoch 16/26\n",
      "38/38 [==============================] - 1s 17ms/step - loss: 0.0029 - accuracy: 1.0000\n",
      "Epoch 17/26\n",
      "38/38 [==============================] - 1s 17ms/step - loss: 0.0031 - accuracy: 1.0000\n",
      "Epoch 18/26\n",
      "38/38 [==============================] - 1s 16ms/step - loss: 0.0027 - accuracy: 1.0000\n",
      "Epoch 19/26\n",
      "38/38 [==============================] - 1s 18ms/step - loss: 0.0037 - accuracy: 1.0000\n",
      "Epoch 20/26\n",
      "38/38 [==============================] - 1s 19ms/step - loss: 0.0026 - accuracy: 1.0000\n",
      "Epoch 21/26\n",
      "38/38 [==============================] - 1s 18ms/step - loss: 0.0030 - accuracy: 1.0000\n",
      "Epoch 22/26\n",
      "38/38 [==============================] - 1s 16ms/step - loss: 0.0024 - accuracy: 1.0000\n",
      "Epoch 23/26\n",
      "38/38 [==============================] - 1s 15ms/step - loss: 0.0042 - accuracy: 1.0000\n",
      "Epoch 24/26\n",
      "38/38 [==============================] - 1s 17ms/step - loss: 0.0030 - accuracy: 1.0000\n",
      "Epoch 25/26\n",
      "38/38 [==============================] - 1s 16ms/step - loss: 0.0024 - accuracy: 1.0000\n",
      "Epoch 26/26\n",
      "38/38 [==============================] - 1s 16ms/step - loss: 0.0019 - accuracy: 1.0000\n",
      "10/10 [==============================] - 0s 3ms/step - loss: 0.6608 - accuracy: 0.8400\n",
      "Accuracy: 83.999997\n"
     ]
    }
   ],
   "source": [
    "# training the model\n",
    "\n",
    "model.fit(X_train, y_train, epochs=26)\n",
    "\n",
    "# evaluate the model\n",
    "loss, accuracy = model.evaluate(X_test, y_test)\n",
    "print('Accuracy: %2f' % (accuracy*100))"
   ]
  },
  {
   "cell_type": "code",
   "execution_count": 52,
   "metadata": {},
   "outputs": [
    {
     "data": {
      "text/plain": [
       "(500, 1)"
      ]
     },
     "execution_count": 52,
     "metadata": {},
     "output_type": "execute_result"
    }
   ],
   "source": [
    "# Teks baru untuk prediksi (sudah di-stem)\n",
    "test = pd.read_csv('test.csv')\n",
    "test.shape\n",
    "# shape = 500,1"
   ]
  },
  {
   "cell_type": "code",
   "execution_count": 53,
   "metadata": {},
   "outputs": [
    {
     "data": {
      "text/plain": [
       "reviews_content    0\n",
       "dtype: int64"
      ]
     },
     "execution_count": 53,
     "metadata": {},
     "output_type": "execute_result"
    }
   ],
   "source": [
    "test.isna().sum()"
   ]
  },
  {
   "cell_type": "code",
   "execution_count": 56,
   "metadata": {},
   "outputs": [],
   "source": [
    "test['reviews_content'] = test['reviews_content'].map(lambda com : clean_text(com))\n",
    "test['reviews_content'] = test['reviews_content'].apply(lambda x: ' '.join([word for word in x.split() if word not in (stop_words)]))\n",
    "test_sequences = tokenizer.texts_to_sequences(test['reviews_content'])\n",
    "test_padded = pad_sequences(test_sequences, padding='post', maxlen=padded_sequences.shape[1])"
   ]
  },
  {
   "cell_type": "code",
   "execution_count": 57,
   "metadata": {},
   "outputs": [
    {
     "name": "stdout",
     "output_type": "stream",
     "text": [
      "16/16 [==============================] - 0s 4ms/step\n"
     ]
    }
   ],
   "source": [
    "predictions = model.predict(test_padded)"
   ]
  },
  {
   "cell_type": "code",
   "execution_count": 58,
   "metadata": {},
   "outputs": [
    {
     "data": {
      "text/plain": [
       "array([[9.70628023e-01],\n",
       "       [9.99269783e-01],\n",
       "       [9.92076993e-01],\n",
       "       [5.56714892e-01],\n",
       "       [9.53499496e-01],\n",
       "       [9.95880127e-01],\n",
       "       [4.20221277e-02],\n",
       "       [7.99202025e-01],\n",
       "       [9.99635339e-01],\n",
       "       [6.25783727e-02],\n",
       "       [9.92637157e-01],\n",
       "       [9.99719322e-01],\n",
       "       [8.96980643e-01],\n",
       "       [2.03000905e-04],\n",
       "       [1.04675512e-03],\n",
       "       [4.08483446e-01],\n",
       "       [9.99995053e-01],\n",
       "       [3.19874100e-03],\n",
       "       [8.01676154e-01],\n",
       "       [6.65995240e-01],\n",
       "       [9.99802709e-01],\n",
       "       [6.55419251e-04],\n",
       "       [3.95284005e-05],\n",
       "       [1.98510970e-05],\n",
       "       [9.99932051e-01],\n",
       "       [9.61971641e-01],\n",
       "       [3.94105524e-01],\n",
       "       [9.88274753e-01],\n",
       "       [8.59084502e-02],\n",
       "       [9.99925852e-01],\n",
       "       [9.99429405e-01],\n",
       "       [1.13307615e-03],\n",
       "       [9.87504027e-04],\n",
       "       [9.99999881e-01],\n",
       "       [8.86806461e-04],\n",
       "       [6.29561394e-02],\n",
       "       [9.99932051e-01],\n",
       "       [3.10528667e-05],\n",
       "       [1.52554393e-01],\n",
       "       [9.86973524e-01],\n",
       "       [1.31071046e-01],\n",
       "       [9.99953926e-01],\n",
       "       [9.63244736e-01],\n",
       "       [7.77585723e-04],\n",
       "       [2.02991621e-04],\n",
       "       [9.99999702e-01],\n",
       "       [2.62546855e-05],\n",
       "       [2.06151835e-05],\n",
       "       [1.29416967e-02],\n",
       "       [1.94779728e-04],\n",
       "       [4.17844385e-01],\n",
       "       [1.05756385e-06],\n",
       "       [9.99932289e-01],\n",
       "       [3.59272235e-04],\n",
       "       [9.07200854e-04],\n",
       "       [9.99929488e-01],\n",
       "       [9.99895930e-01],\n",
       "       [1.91356502e-02],\n",
       "       [1.76285321e-04],\n",
       "       [7.78695801e-04],\n",
       "       [4.46383469e-03],\n",
       "       [1.16698882e-02],\n",
       "       [6.10503435e-01],\n",
       "       [3.30028088e-05],\n",
       "       [9.03232896e-04],\n",
       "       [6.47568158e-05],\n",
       "       [2.58465886e-01],\n",
       "       [7.61519447e-02],\n",
       "       [4.53971770e-05],\n",
       "       [1.38500836e-04],\n",
       "       [9.81859803e-01],\n",
       "       [9.99965310e-01],\n",
       "       [6.93149585e-03],\n",
       "       [9.87046897e-01],\n",
       "       [9.99799252e-01],\n",
       "       [9.99370992e-01],\n",
       "       [9.99966025e-01],\n",
       "       [1.24731727e-04],\n",
       "       [9.98738945e-01],\n",
       "       [9.99982715e-01],\n",
       "       [9.99970973e-01],\n",
       "       [9.23416793e-01],\n",
       "       [2.82911924e-06],\n",
       "       [9.99671102e-01],\n",
       "       [1.40467525e-01],\n",
       "       [9.99996781e-01],\n",
       "       [1.10050254e-02],\n",
       "       [9.99996960e-01],\n",
       "       [9.99989331e-01],\n",
       "       [6.82124111e-04],\n",
       "       [6.16517791e-05],\n",
       "       [3.32551092e-01],\n",
       "       [9.99989450e-01],\n",
       "       [9.99732733e-01],\n",
       "       [9.27500129e-01],\n",
       "       [1.95069551e-05],\n",
       "       [9.85486805e-01],\n",
       "       [8.65925729e-01],\n",
       "       [9.99997675e-01],\n",
       "       [6.98298623e-04],\n",
       "       [9.89966810e-01],\n",
       "       [8.01199302e-02],\n",
       "       [7.97713710e-06],\n",
       "       [1.01156738e-05],\n",
       "       [9.99707401e-01],\n",
       "       [9.99462247e-01],\n",
       "       [9.73912776e-01],\n",
       "       [4.25332808e-04],\n",
       "       [2.26605162e-02],\n",
       "       [4.20353077e-02],\n",
       "       [9.99992073e-01],\n",
       "       [9.77987468e-01],\n",
       "       [9.85802829e-01],\n",
       "       [3.30419489e-03],\n",
       "       [3.44548462e-05],\n",
       "       [1.89818573e-04],\n",
       "       [4.09127213e-02],\n",
       "       [9.77804780e-01],\n",
       "       [8.70965242e-01],\n",
       "       [2.04544573e-04],\n",
       "       [9.84255075e-01],\n",
       "       [9.98130083e-01],\n",
       "       [1.70607411e-03],\n",
       "       [9.99951363e-01],\n",
       "       [9.99982893e-01],\n",
       "       [9.99916136e-01],\n",
       "       [9.99678373e-01],\n",
       "       [9.59384084e-01],\n",
       "       [1.16287236e-04],\n",
       "       [9.84103680e-01],\n",
       "       [9.99968231e-01],\n",
       "       [9.97418821e-01],\n",
       "       [9.99994814e-01],\n",
       "       [5.98966144e-05],\n",
       "       [6.23037577e-01],\n",
       "       [4.66530863e-03],\n",
       "       [3.07031497e-02],\n",
       "       [9.99997437e-01],\n",
       "       [9.99420166e-01],\n",
       "       [1.99185200e-02],\n",
       "       [9.99837637e-01],\n",
       "       [5.36571224e-06],\n",
       "       [2.37110537e-03],\n",
       "       [6.37168065e-03],\n",
       "       [3.56052828e-06],\n",
       "       [2.12513487e-06],\n",
       "       [2.23867799e-04],\n",
       "       [9.99970615e-01],\n",
       "       [1.68049184e-04],\n",
       "       [1.50752297e-04],\n",
       "       [9.97464836e-01],\n",
       "       [9.99568522e-01],\n",
       "       [6.81739450e-02],\n",
       "       [4.02648235e-03],\n",
       "       [8.90665412e-01],\n",
       "       [9.99062598e-01],\n",
       "       [9.99968171e-01],\n",
       "       [2.38039009e-02],\n",
       "       [2.02916067e-06],\n",
       "       [9.98993397e-01],\n",
       "       [9.71383997e-06],\n",
       "       [8.91620459e-07],\n",
       "       [8.69686306e-01],\n",
       "       [1.12554093e-03],\n",
       "       [3.44469954e-05],\n",
       "       [2.39878631e-07],\n",
       "       [5.83755858e-02],\n",
       "       [4.13412377e-02],\n",
       "       [1.11036323e-01],\n",
       "       [6.70208275e-01],\n",
       "       [1.32067362e-02],\n",
       "       [5.39785193e-04],\n",
       "       [8.24773133e-01],\n",
       "       [3.31359535e-01],\n",
       "       [9.47659850e-01],\n",
       "       [2.36498134e-04],\n",
       "       [9.80997691e-04],\n",
       "       [1.54071768e-05],\n",
       "       [1.45781428e-01],\n",
       "       [9.30742919e-01],\n",
       "       [5.86575210e-01],\n",
       "       [7.29332924e-01],\n",
       "       [9.99971986e-01],\n",
       "       [3.17681377e-04],\n",
       "       [9.99908984e-01],\n",
       "       [9.80161071e-01],\n",
       "       [3.38894734e-03],\n",
       "       [4.00014259e-02],\n",
       "       [3.82518338e-05],\n",
       "       [9.99999702e-01],\n",
       "       [9.99997973e-01],\n",
       "       [7.08111911e-04],\n",
       "       [9.99974310e-01],\n",
       "       [9.25925153e-04],\n",
       "       [9.99963582e-01],\n",
       "       [7.32530877e-02],\n",
       "       [1.53826331e-04],\n",
       "       [2.90705466e-05],\n",
       "       [1.17508080e-05],\n",
       "       [9.92181540e-01],\n",
       "       [9.99857008e-01],\n",
       "       [9.99991894e-01],\n",
       "       [1.71064426e-06],\n",
       "       [4.26249113e-03],\n",
       "       [2.63412821e-05],\n",
       "       [1.11453049e-01],\n",
       "       [7.06799924e-01],\n",
       "       [4.16021705e-01],\n",
       "       [9.80900526e-01],\n",
       "       [9.99973595e-01],\n",
       "       [2.73724290e-04],\n",
       "       [1.08422786e-02],\n",
       "       [1.58390049e-02],\n",
       "       [9.93986011e-01],\n",
       "       [1.93118816e-03],\n",
       "       [2.22938554e-03],\n",
       "       [9.94770765e-01],\n",
       "       [7.83313531e-03],\n",
       "       [7.32022703e-01],\n",
       "       [9.48300600e-01],\n",
       "       [6.14471966e-04],\n",
       "       [9.99506593e-01],\n",
       "       [2.75160687e-06],\n",
       "       [1.44724050e-04],\n",
       "       [9.95645940e-01],\n",
       "       [1.53811267e-02],\n",
       "       [9.74520087e-01],\n",
       "       [4.80465032e-02],\n",
       "       [9.99343097e-01],\n",
       "       [4.51287866e-04],\n",
       "       [9.99988317e-01],\n",
       "       [9.72741836e-05],\n",
       "       [9.93887603e-01],\n",
       "       [1.08759189e-02],\n",
       "       [2.62734073e-04],\n",
       "       [9.98703718e-01],\n",
       "       [9.99206364e-01],\n",
       "       [2.83667498e-04],\n",
       "       [1.17246984e-02],\n",
       "       [9.99999523e-01],\n",
       "       [1.90989696e-03],\n",
       "       [9.70709734e-05],\n",
       "       [9.99999106e-01],\n",
       "       [1.73719873e-05],\n",
       "       [9.97047424e-01],\n",
       "       [6.28684575e-05],\n",
       "       [9.99904335e-01],\n",
       "       [9.99997318e-01],\n",
       "       [6.28949510e-06],\n",
       "       [9.76582289e-01],\n",
       "       [1.67126805e-01],\n",
       "       [9.90437686e-01],\n",
       "       [3.97505462e-02],\n",
       "       [5.77002356e-04],\n",
       "       [9.99890029e-01],\n",
       "       [1.00353197e-03],\n",
       "       [9.99997675e-01],\n",
       "       [9.99969423e-01],\n",
       "       [2.95767561e-04],\n",
       "       [1.70945027e-03],\n",
       "       [1.23540470e-02],\n",
       "       [9.99694943e-01],\n",
       "       [1.23496166e-05],\n",
       "       [9.98802304e-01],\n",
       "       [1.03112198e-02],\n",
       "       [5.54933071e-01],\n",
       "       [9.99852717e-01],\n",
       "       [1.16630999e-05],\n",
       "       [6.53355941e-02],\n",
       "       [8.17654073e-01],\n",
       "       [9.99950826e-01],\n",
       "       [9.97781157e-01],\n",
       "       [1.74474291e-04],\n",
       "       [9.99467611e-01],\n",
       "       [1.50141059e-05],\n",
       "       [8.72626086e-04],\n",
       "       [9.99991894e-01],\n",
       "       [9.99141872e-01],\n",
       "       [4.48396400e-04],\n",
       "       [9.99990821e-01],\n",
       "       [7.07201660e-01],\n",
       "       [9.12387133e-01],\n",
       "       [1.84770961e-05],\n",
       "       [1.52431923e-04],\n",
       "       [8.52164719e-03],\n",
       "       [6.60585720e-05],\n",
       "       [9.99993026e-01],\n",
       "       [5.96437277e-03],\n",
       "       [6.48298204e-01],\n",
       "       [9.98971403e-01],\n",
       "       [9.99424875e-01],\n",
       "       [1.72475132e-03],\n",
       "       [9.99433219e-01],\n",
       "       [1.68468198e-03],\n",
       "       [9.99983072e-01],\n",
       "       [9.67661798e-01],\n",
       "       [9.99999404e-01],\n",
       "       [1.33135006e-01],\n",
       "       [9.99924064e-01],\n",
       "       [9.89704669e-01],\n",
       "       [3.70380985e-05],\n",
       "       [1.10184576e-03],\n",
       "       [9.99999523e-01],\n",
       "       [9.99982595e-01],\n",
       "       [9.99270618e-01],\n",
       "       [9.99999702e-01],\n",
       "       [9.99059975e-01],\n",
       "       [1.88585341e-01],\n",
       "       [3.31653282e-05],\n",
       "       [1.31899355e-07],\n",
       "       [9.59032986e-05],\n",
       "       [9.27729085e-02],\n",
       "       [9.91276860e-01],\n",
       "       [9.99981046e-01],\n",
       "       [9.79381382e-01],\n",
       "       [5.87254544e-05],\n",
       "       [9.37508583e-01],\n",
       "       [8.17633918e-05],\n",
       "       [9.99007881e-01],\n",
       "       [9.99182343e-01],\n",
       "       [2.68242351e-04],\n",
       "       [9.90294963e-02],\n",
       "       [1.09823607e-03],\n",
       "       [9.99211848e-01],\n",
       "       [9.99982297e-01],\n",
       "       [6.16675735e-01],\n",
       "       [8.27742755e-01],\n",
       "       [9.96699691e-01],\n",
       "       [7.91078925e-01],\n",
       "       [1.46809954e-03],\n",
       "       [9.98947680e-01],\n",
       "       [8.75255355e-05],\n",
       "       [1.21527156e-02],\n",
       "       [9.99993742e-01],\n",
       "       [6.75443053e-01],\n",
       "       [3.42353975e-04],\n",
       "       [8.35628271e-01],\n",
       "       [1.32952705e-01],\n",
       "       [9.99193788e-01],\n",
       "       [3.92360671e-05],\n",
       "       [6.20867670e-01],\n",
       "       [9.99940991e-01],\n",
       "       [1.59181207e-02],\n",
       "       [2.17645410e-02],\n",
       "       [2.55043618e-04],\n",
       "       [9.99864638e-01],\n",
       "       [2.52386136e-03],\n",
       "       [7.35573351e-01],\n",
       "       [3.46578832e-09],\n",
       "       [1.43548241e-02],\n",
       "       [9.99983907e-01],\n",
       "       [4.46385611e-03],\n",
       "       [9.99182761e-01],\n",
       "       [2.45677402e-05],\n",
       "       [3.25350411e-05],\n",
       "       [9.99071479e-01],\n",
       "       [3.63015942e-03],\n",
       "       [6.40554208e-05],\n",
       "       [9.99971986e-01],\n",
       "       [9.94394422e-01],\n",
       "       [9.99978781e-01],\n",
       "       [2.71558471e-04],\n",
       "       [6.12994134e-01],\n",
       "       [1.87797239e-03],\n",
       "       [1.79998517e-01],\n",
       "       [1.78737682e-05],\n",
       "       [1.28496289e-02],\n",
       "       [9.99987662e-01],\n",
       "       [9.99945581e-01],\n",
       "       [3.18707479e-03],\n",
       "       [1.03240550e-01],\n",
       "       [3.83577280e-05],\n",
       "       [2.74645954e-05],\n",
       "       [9.15949464e-01],\n",
       "       [1.22508254e-05],\n",
       "       [8.47659612e-06],\n",
       "       [9.99579370e-01],\n",
       "       [9.99964535e-01],\n",
       "       [9.99810159e-01],\n",
       "       [7.99017668e-01],\n",
       "       [4.60643647e-03],\n",
       "       [9.72890437e-01],\n",
       "       [9.99819934e-01],\n",
       "       [1.70326864e-04],\n",
       "       [9.97180402e-01],\n",
       "       [9.99987423e-01],\n",
       "       [9.99966681e-01],\n",
       "       [8.72761593e-04],\n",
       "       [9.99368131e-01],\n",
       "       [9.99918282e-01],\n",
       "       [9.97403204e-01],\n",
       "       [9.99840617e-01],\n",
       "       [9.46381688e-01],\n",
       "       [1.09457155e-03],\n",
       "       [1.97446116e-05],\n",
       "       [9.99999106e-01],\n",
       "       [2.23993883e-03],\n",
       "       [9.89726186e-01],\n",
       "       [9.96347785e-01],\n",
       "       [9.99916255e-01],\n",
       "       [1.36480972e-01],\n",
       "       [4.89588939e-02],\n",
       "       [2.22299186e-05],\n",
       "       [5.79143800e-02],\n",
       "       [9.98438358e-01],\n",
       "       [9.99997318e-01],\n",
       "       [9.99983072e-01],\n",
       "       [2.03761528e-03],\n",
       "       [9.99909401e-01],\n",
       "       [4.67838196e-04],\n",
       "       [1.28096959e-04],\n",
       "       [1.78239807e-05],\n",
       "       [2.27395847e-01],\n",
       "       [2.79038450e-05],\n",
       "       [1.68140650e-01],\n",
       "       [9.99954402e-01],\n",
       "       [9.99965847e-01],\n",
       "       [9.76534784e-01],\n",
       "       [9.99999464e-01],\n",
       "       [4.92128730e-01],\n",
       "       [4.37775433e-01],\n",
       "       [1.55569181e-01],\n",
       "       [9.99991417e-01],\n",
       "       [9.99715745e-01],\n",
       "       [9.99996305e-01],\n",
       "       [1.74945980e-01],\n",
       "       [8.61311238e-03],\n",
       "       [9.23729718e-01],\n",
       "       [1.69481829e-01],\n",
       "       [9.65102971e-01],\n",
       "       [6.08472645e-01],\n",
       "       [9.99812961e-01],\n",
       "       [5.41649014e-02],\n",
       "       [5.11166290e-05],\n",
       "       [3.74389106e-06],\n",
       "       [3.40381712e-06],\n",
       "       [9.99937296e-01],\n",
       "       [4.20709148e-05],\n",
       "       [1.74224740e-04],\n",
       "       [4.34507710e-05],\n",
       "       [9.59689021e-01],\n",
       "       [9.99999702e-01],\n",
       "       [9.99997973e-01],\n",
       "       [9.99450028e-01],\n",
       "       [1.02118567e-04],\n",
       "       [1.73310167e-04],\n",
       "       [9.86300409e-01],\n",
       "       [1.10077606e-04],\n",
       "       [4.95194783e-03],\n",
       "       [5.24435600e-04],\n",
       "       [4.82958794e-01],\n",
       "       [9.99966562e-01],\n",
       "       [9.22419369e-01],\n",
       "       [3.64583320e-05],\n",
       "       [1.22074224e-03],\n",
       "       [1.23941514e-04],\n",
       "       [1.98263749e-02],\n",
       "       [1.00232754e-02],\n",
       "       [8.58563542e-01],\n",
       "       [3.95699497e-03],\n",
       "       [3.15036535e-01],\n",
       "       [9.99961734e-01],\n",
       "       [9.99999285e-01],\n",
       "       [9.23427215e-05],\n",
       "       [9.99920964e-01],\n",
       "       [9.99949694e-01],\n",
       "       [1.50061399e-02],\n",
       "       [9.99997139e-01],\n",
       "       [6.18526936e-02],\n",
       "       [5.60140586e-04],\n",
       "       [9.96914387e-01],\n",
       "       [9.99996006e-01],\n",
       "       [8.25303376e-01],\n",
       "       [9.99829173e-01],\n",
       "       [9.94309843e-01],\n",
       "       [9.91607979e-02],\n",
       "       [1.38350010e-01],\n",
       "       [1.27261251e-01],\n",
       "       [1.24163034e-05],\n",
       "       [2.88500758e-07],\n",
       "       [1.07851680e-02],\n",
       "       [3.34684009e-05],\n",
       "       [9.99257326e-01],\n",
       "       [3.80440324e-05],\n",
       "       [9.98623073e-01],\n",
       "       [9.99366164e-01],\n",
       "       [4.87017184e-02],\n",
       "       [2.45074958e-01],\n",
       "       [6.20341823e-02],\n",
       "       [7.30137981e-04],\n",
       "       [6.87984939e-05],\n",
       "       [9.63557899e-01],\n",
       "       [4.93429229e-03],\n",
       "       [6.42650485e-01],\n",
       "       [9.99959469e-01],\n",
       "       [9.99703228e-01],\n",
       "       [9.99133766e-01],\n",
       "       [9.98152554e-01],\n",
       "       [9.99994040e-01],\n",
       "       [9.99949157e-01]], dtype=float32)"
      ]
     },
     "execution_count": 58,
     "metadata": {},
     "output_type": "execute_result"
    }
   ],
   "source": [
    "predictions"
   ]
  },
  {
   "cell_type": "code",
   "execution_count": 59,
   "metadata": {},
   "outputs": [
    {
     "data": {
      "text/html": [
       "<div>\n",
       "<style scoped>\n",
       "    .dataframe tbody tr th:only-of-type {\n",
       "        vertical-align: middle;\n",
       "    }\n",
       "\n",
       "    .dataframe tbody tr th {\n",
       "        vertical-align: top;\n",
       "    }\n",
       "\n",
       "    .dataframe thead th {\n",
       "        text-align: right;\n",
       "    }\n",
       "</style>\n",
       "<table border=\"1\" class=\"dataframe\">\n",
       "  <thead>\n",
       "    <tr style=\"text-align: right;\">\n",
       "      <th></th>\n",
       "      <th>category</th>\n",
       "    </tr>\n",
       "  </thead>\n",
       "  <tbody>\n",
       "    <tr>\n",
       "      <th>0</th>\n",
       "      <td>positive</td>\n",
       "    </tr>\n",
       "    <tr>\n",
       "      <th>1</th>\n",
       "      <td>positive</td>\n",
       "    </tr>\n",
       "    <tr>\n",
       "      <th>2</th>\n",
       "      <td>positive</td>\n",
       "    </tr>\n",
       "    <tr>\n",
       "      <th>3</th>\n",
       "      <td>positive</td>\n",
       "    </tr>\n",
       "    <tr>\n",
       "      <th>4</th>\n",
       "      <td>positive</td>\n",
       "    </tr>\n",
       "    <tr>\n",
       "      <th>...</th>\n",
       "      <td>...</td>\n",
       "    </tr>\n",
       "    <tr>\n",
       "      <th>495</th>\n",
       "      <td>positive</td>\n",
       "    </tr>\n",
       "    <tr>\n",
       "      <th>496</th>\n",
       "      <td>positive</td>\n",
       "    </tr>\n",
       "    <tr>\n",
       "      <th>497</th>\n",
       "      <td>positive</td>\n",
       "    </tr>\n",
       "    <tr>\n",
       "      <th>498</th>\n",
       "      <td>positive</td>\n",
       "    </tr>\n",
       "    <tr>\n",
       "      <th>499</th>\n",
       "      <td>positive</td>\n",
       "    </tr>\n",
       "  </tbody>\n",
       "</table>\n",
       "<p>500 rows × 1 columns</p>\n",
       "</div>"
      ],
      "text/plain": [
       "     category\n",
       "0    positive\n",
       "1    positive\n",
       "2    positive\n",
       "3    positive\n",
       "4    positive\n",
       "..        ...\n",
       "495  positive\n",
       "496  positive\n",
       "497  positive\n",
       "498  positive\n",
       "499  positive\n",
       "\n",
       "[500 rows x 1 columns]"
      ]
     },
     "execution_count": 59,
     "metadata": {},
     "output_type": "execute_result"
    }
   ],
   "source": [
    "# Ambang batas\n",
    "threshold = 0.5\n",
    "\n",
    "# Mengonversi probabilitas menjadi label kelas\n",
    "predicted_labels = ['positive' if prob > threshold else 'negative' for prob in predictions]\n",
    "predictions = pd.DataFrame(predicted_labels, columns=['category'])\n",
    "predictions\n"
   ]
  },
  {
   "cell_type": "code",
   "execution_count": 60,
   "metadata": {},
   "outputs": [
    {
     "data": {
      "text/plain": [
       "category\n",
       "negative    255\n",
       "positive    245\n",
       "dtype: int64"
      ]
     },
     "execution_count": 60,
     "metadata": {},
     "output_type": "execute_result"
    }
   ],
   "source": [
    "predictions.value_counts()"
   ]
  },
  {
   "cell_type": "code",
   "execution_count": 61,
   "metadata": {},
   "outputs": [],
   "source": [
    "predictions.to_csv('BDC007_submission.csv', index=False)"
   ]
  }
 ],
 "metadata": {
  "kernelspec": {
   "display_name": "Python 3",
   "language": "python",
   "name": "python3"
  },
  "language_info": {
   "codemirror_mode": {
    "name": "ipython",
    "version": 3
   },
   "file_extension": ".py",
   "mimetype": "text/x-python",
   "name": "python",
   "nbconvert_exporter": "python",
   "pygments_lexer": "ipython3",
   "version": "3.10.7"
  }
 },
 "nbformat": 4,
 "nbformat_minor": 2
}
